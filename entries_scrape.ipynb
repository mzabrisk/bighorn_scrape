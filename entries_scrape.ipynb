{
 "cells": [
  {
   "cell_type": "code",
   "execution_count": 1,
   "metadata": {},
   "outputs": [],
   "source": [
    "from splinter import Browser\n",
    "from bs4 import BeautifulSoup\n",
    "from webdriver_manager.chrome import ChromeDriverManager\n",
    "import re\n",
    "import pandas as pd \n",
    "\n",
    "executable_path = {'executable_path': ChromeDriverManager().install()}\n",
    "browser = Browser('chrome', **executable_path, headless=False)"
   ]
  },
  {
   "cell_type": "code",
   "execution_count": 2,
   "metadata": {},
   "outputs": [],
   "source": [
    "url = \"https://bhtr.itsyourrace.com/EventCheck.aspx?id=384\"\n",
    "browser.visit(url)\n",
    "html = browser.html\n",
    "soup = BeautifulSoup(html, 'html.parser')"
   ]
  },
  {
   "cell_type": "code",
   "execution_count": 3,
   "metadata": {},
   "outputs": [
    {
     "data": {
      "text/plain": [
       "105"
      ]
     },
     "execution_count": 3,
     "metadata": {},
     "output_type": "execute_result"
    }
   ],
   "source": [
    "# create list of potential 2-letter combinations for searching purposes\n",
    "\n",
    "vowels = ['a', 'e', 'i', 'o', 'u']\n",
    "consonants = ['b', 'c', 'd', 'f', 'g', 'h','j', 'k', 'l', 'm', 'n', 'p', 'q', 'r', 's', 't', 'v', 'w', 'x', 'y', 'z']\n",
    "combined_list = []\n",
    "\n",
    "for vowel in vowels:\n",
    "    for consonant in consonants:\n",
    "        # combined_list.append(f\"{vowel}{consonant}\")\n",
    "        combined_list.append(f\"{consonant}{vowel}\")\n",
    "\n",
    "len(combined_list)"
   ]
  },
  {
   "cell_type": "code",
   "execution_count": 4,
   "metadata": {},
   "outputs": [],
   "source": [
    "# create function to pull table search results\n",
    "\n",
    "entrants_list = []\n",
    "hometown_list = []\n",
    "distance_list = []\n",
    "\n",
    "def get_entrant():\n",
    "\n",
    "    try:\n",
    "        html = browser.html\n",
    "        soup = BeautifulSoup(html, 'html.parser')\n",
    "\n",
    "        main_area = soup.find(\"div\", id=\"ctl00_ContentPlaceHolder1_pnlResults\")\n",
    "\n",
    "        entrants_table = main_area.find('table', class_=\"regCheck\")\n",
    "\n",
    "        entrants = entrants_table.find_all('tr')\n",
    "\n",
    "\n",
    "        for i in range(1,len(entrants)):\n",
    "        \n",
    "            name = entrants[i].find('td', class_='col2').text.strip()\n",
    "            location = entrants[i].find('td', class_='col3').text.strip()\n",
    "            distance = entrants[i].find('td', class_='col1').text.strip()\n",
    "\n",
    "            if name in entrants_list:\n",
    "                next\n",
    "            \n",
    "            else:\n",
    "                entrants_list.append(name)\n",
    "                hometown_list.append(location)\n",
    "                distance_list.append(distance)\n",
    "    except:\n",
    "        next\n"
   ]
  },
  {
   "cell_type": "code",
   "execution_count": 5,
   "metadata": {},
   "outputs": [],
   "source": [
    "\n",
    "for name in combined_list:\n",
    "\n",
    "    browser.fill('ctl00$ContentPlaceHolder1$txtLastName', name)\n",
    "\n",
    "    browser.find_by_name('ctl00$ContentPlaceHolder1$btnSearch').first.click()\n",
    "    \n",
    "    get_entrant()"
   ]
  },
  {
   "cell_type": "code",
   "execution_count": 6,
   "metadata": {},
   "outputs": [
    {
     "data": {
      "text/html": [
       "<div>\n",
       "<style scoped>\n",
       "    .dataframe tbody tr th:only-of-type {\n",
       "        vertical-align: middle;\n",
       "    }\n",
       "\n",
       "    .dataframe tbody tr th {\n",
       "        vertical-align: top;\n",
       "    }\n",
       "\n",
       "    .dataframe thead th {\n",
       "        text-align: right;\n",
       "    }\n",
       "</style>\n",
       "<table border=\"1\" class=\"dataframe\">\n",
       "  <thead>\n",
       "    <tr style=\"text-align: right;\">\n",
       "      <th></th>\n",
       "      <th>entrant</th>\n",
       "      <th>hometown</th>\n",
       "      <th>distance</th>\n",
       "    </tr>\n",
       "  </thead>\n",
       "  <tbody>\n",
       "    <tr>\n",
       "      <th>0</th>\n",
       "      <td>STEVE BAIARDI</td>\n",
       "      <td>Rowley, MA</td>\n",
       "      <td>100M</td>\n",
       "    </tr>\n",
       "    <tr>\n",
       "      <th>1</th>\n",
       "      <td>RUSSELL BARNES</td>\n",
       "      <td>Oxford, MS</td>\n",
       "      <td>100M</td>\n",
       "    </tr>\n",
       "    <tr>\n",
       "      <th>2</th>\n",
       "      <td>ANDREW BARNEY</td>\n",
       "      <td>American Fork, UT</td>\n",
       "      <td>100M</td>\n",
       "    </tr>\n",
       "    <tr>\n",
       "      <th>3</th>\n",
       "      <td>ALEX BARTLEY</td>\n",
       "      <td>Plainview, MN</td>\n",
       "      <td>100M</td>\n",
       "    </tr>\n",
       "    <tr>\n",
       "      <th>4</th>\n",
       "      <td>Jennifer Bigback</td>\n",
       "      <td>Billings, MT</td>\n",
       "      <td>18M</td>\n",
       "    </tr>\n",
       "    <tr>\n",
       "      <th>...</th>\n",
       "      <td>...</td>\n",
       "      <td>...</td>\n",
       "      <td>...</td>\n",
       "    </tr>\n",
       "    <tr>\n",
       "      <th>507</th>\n",
       "      <td>KIRK RUPP</td>\n",
       "      <td>Tremonton, UT</td>\n",
       "      <td>100M</td>\n",
       "    </tr>\n",
       "    <tr>\n",
       "      <th>508</th>\n",
       "      <td>BENJAMIN RUSH</td>\n",
       "      <td>Clarksville, TN</td>\n",
       "      <td>100M</td>\n",
       "    </tr>\n",
       "    <tr>\n",
       "      <th>509</th>\n",
       "      <td>LINDSEY RUST</td>\n",
       "      <td>Draper, UT</td>\n",
       "      <td>100M</td>\n",
       "    </tr>\n",
       "    <tr>\n",
       "      <th>510</th>\n",
       "      <td>JOE SCHRUM</td>\n",
       "      <td>Hereford, AZ</td>\n",
       "      <td>100M</td>\n",
       "    </tr>\n",
       "    <tr>\n",
       "      <th>511</th>\n",
       "      <td>DI WU</td>\n",
       "      <td>Pullman, WA</td>\n",
       "      <td>100M</td>\n",
       "    </tr>\n",
       "  </tbody>\n",
       "</table>\n",
       "<p>512 rows × 3 columns</p>\n",
       "</div>"
      ],
      "text/plain": [
       "              entrant           hometown distance\n",
       "0       STEVE BAIARDI         Rowley, MA     100M\n",
       "1      RUSSELL BARNES         Oxford, MS     100M\n",
       "2       ANDREW BARNEY  American Fork, UT     100M\n",
       "3        ALEX BARTLEY      Plainview, MN     100M\n",
       "4    Jennifer Bigback       Billings, MT      18M\n",
       "..                ...                ...      ...\n",
       "507         KIRK RUPP      Tremonton, UT     100M\n",
       "508     BENJAMIN RUSH    Clarksville, TN     100M\n",
       "509      LINDSEY RUST         Draper, UT     100M\n",
       "510        JOE SCHRUM       Hereford, AZ     100M\n",
       "511             DI WU        Pullman, WA     100M\n",
       "\n",
       "[512 rows x 3 columns]"
      ]
     },
     "execution_count": 6,
     "metadata": {},
     "output_type": "execute_result"
    }
   ],
   "source": [
    "# create df from generated lists\n",
    "entrants_df = pd.DataFrame()\n",
    "\n",
    "entrants_df['entrant'] = entrants_list\n",
    "entrants_df['hometown'] = hometown_list\n",
    "entrants_df['distance'] = distance_list\n",
    "\n",
    "entrants_df"
   ]
  },
  {
   "cell_type": "code",
   "execution_count": 7,
   "metadata": {},
   "outputs": [],
   "source": [
    "# split into state and town columns\n",
    "hometown = entrants_df['hometown'].str.split(',', expand=True)[0]\n",
    "homestate = entrants_df['hometown'].str.split(',', expand=True)[1]\n",
    "\n",
    "entrants_df['hometown'] = hometown\n",
    "entrants_df['homestate'] = homestate\n",
    "\n",
    "#reorder columns, sort by state\n",
    "entrants_df = entrants_df.iloc[:,[0,1,3,2]].sort_values(by='homestate')\n"
   ]
  },
  {
   "cell_type": "code",
   "execution_count": 8,
   "metadata": {},
   "outputs": [],
   "source": [
    "# create df for each distance\n",
    "bighorn100_df =entrants_df[entrants_df['distance'] == '100M']\n",
    "bighorn52_df =entrants_df[entrants_df['distance'] == '52M']\n",
    "bighorn32_df =entrants_df[entrants_df['distance'] == '32M']\n",
    "bighorn18_df =entrants_df[entrants_df['distance'] == '18M']"
   ]
  },
  {
   "cell_type": "code",
   "execution_count": 9,
   "metadata": {},
   "outputs": [],
   "source": [
    "with pd.ExcelWriter(\"bighorn2024_entrants.xlsx\") as writer:\n",
    "   \n",
    "    # use to_excel function and specify the sheet_name and index \n",
    "    # to store the dataframe in specified sheet\n",
    "    bighorn100_df.to_excel(writer, sheet_name=\"100M\", index=False)\n",
    "    bighorn52_df.to_excel(writer, sheet_name=\"52M\", index=False)\n",
    "    bighorn32_df.to_excel(writer, sheet_name=\"32M\", index=False)\n",
    "    bighorn18_df.to_excel(writer, sheet_name=\"18M\", index=False)"
   ]
  }
 ],
 "metadata": {
  "kernelspec": {
   "display_name": "Python 3",
   "language": "python",
   "name": "python3"
  },
  "language_info": {
   "codemirror_mode": {
    "name": "ipython",
    "version": 3
   },
   "file_extension": ".py",
   "mimetype": "text/x-python",
   "name": "python",
   "nbconvert_exporter": "python",
   "pygments_lexer": "ipython3",
   "version": "3.7.15"
  }
 },
 "nbformat": 4,
 "nbformat_minor": 2
}
